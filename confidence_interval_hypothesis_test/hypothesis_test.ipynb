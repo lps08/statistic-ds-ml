{
  "cells": [
    {
      "cell_type": "code",
      "execution_count": 71,
      "metadata": {
        "id": "P5jndwr89Jys"
      },
      "outputs": [],
      "source": [
        "import numpy as np\n",
        "import math\n",
        "from scipy import stats\n",
        "from statsmodels.stats.weightstats import ztest\n",
        "from scipy.stats import ttest_rel\n",
        "import pandas as pd\n",
        "from sklearn.naive_bayes import GaussianNB\n",
        "from sklearn.feature_selection import SelectFdr, chi2, f_classif\n",
        "from sklearn.metrics import accuracy_score\n",
        "from statsmodels.stats.multicomp import MultiComparison\n",
        "from sklearn.naive_bayes import GaussianNB\n",
        "from sklearn.linear_model import LogisticRegression\n",
        "from sklearn.ensemble import RandomForestClassifier\n",
        "from sklearn.model_selection import cross_val_score, KFold\n",
        "from sklearn.preprocessing import StandardScaler\n",
        "from tqdm import tqdm\n",
        "import seaborn as sns"
      ]
    },
    {
      "cell_type": "markdown",
      "metadata": {
        "id": "FteYNO709Jyt"
      },
      "source": [
        "# Hypothesis tests"
      ]
    },
    {
      "cell_type": "code",
      "execution_count": 2,
      "metadata": {
        "id": "4f3Jwrlu9Jyu"
      },
      "outputs": [],
      "source": [
        "data_h0 = np.array([126. , 129.5, 133. , 133. , 136.5, 136.5, 140. , 140. , 140. ,\n",
        "                140. , 143.5, 143.5, 143.5, 143.5, 143.5, 143.5, 147. , 147. ,\n",
        "                147. , 147. , 147. , 147. , 147. , 150.5, 150.5, 150.5, 150.5,\n",
        "                150.5, 150.5, 150.5, 150.5, 154. , 154. , 154. , 154. , 154. ,\n",
        "                154. , 154. , 154. , 154. , 157.5, 157.5, 157.5, 157.5, 157.5,\n",
        "                157.5, 157.5, 157.5, 157.5, 157.5, 161. , 161. , 161. , 161. ,\n",
        "                161. , 161. , 161. , 161. , 161. , 161. , 164.5, 164.5, 164.5,\n",
        "                164.5, 164.5, 164.5, 164.5, 164.5, 164.5, 168. , 168. , 168. ,\n",
        "                168. , 168. , 168. , 168. , 168. , 171.5, 171.5, 171.5, 171.5,\n",
        "                171.5, 171.5, 171.5, 175. , 175. , 175. , 175. , 175. , 175. ,\n",
        "                178.5, 178.5, 178.5, 178.5, 182. , 182. , 185.5, 185.5, 189., 192.5])"
      ]
    },
    {
      "cell_type": "code",
      "execution_count": 3,
      "metadata": {
        "colab": {
          "base_uri": "https://localhost:8080/"
        },
        "id": "OKAXnpyl9Jyv",
        "outputId": "e6f0d9fc-ad0c-4692-da1f-eca29ff93500"
      },
      "outputs": [
        {
          "output_type": "execute_result",
          "data": {
            "text/plain": [
              "159.25"
            ]
          },
          "metadata": {},
          "execution_count": 3
        }
      ],
      "source": [
        "h0_mean = np.mean(data_h0)\n",
        "h0_mean"
      ]
    },
    {
      "cell_type": "code",
      "execution_count": 4,
      "metadata": {
        "colab": {
          "base_uri": "https://localhost:8080/"
        },
        "id": "-TMEM_4t9Jyv",
        "outputId": "4018075b-39b9-4967-8e21-c8c85f5edecc"
      },
      "outputs": [
        {
          "output_type": "execute_result",
          "data": {
            "text/plain": [
              "13.65"
            ]
          },
          "metadata": {},
          "execution_count": 4
        }
      ],
      "source": [
        "h0_std = np.std(data_h0)\n",
        "h0_std"
      ]
    },
    {
      "cell_type": "code",
      "execution_count": 5,
      "metadata": {
        "colab": {
          "base_uri": "https://localhost:8080/"
        },
        "id": "NXJoWdYe9Jyw",
        "outputId": "e3cbc496-bc4f-4c5e-dbe1-07f05d1361af"
      },
      "outputs": [
        {
          "output_type": "execute_result",
          "data": {
            "text/plain": [
              "array([129.78 , 133.385, 136.99 , 136.99 , 140.595, 140.595, 144.2  ,\n",
              "       144.2  , 144.2  , 144.2  , 147.805, 147.805, 147.805, 147.805,\n",
              "       147.805, 147.805, 151.41 , 151.41 , 151.41 , 151.41 , 151.41 ,\n",
              "       151.41 , 151.41 , 155.015, 155.015, 155.015, 155.015, 155.015,\n",
              "       155.015, 155.015, 155.015, 158.62 , 158.62 , 158.62 , 158.62 ,\n",
              "       158.62 , 158.62 , 158.62 , 158.62 , 158.62 , 162.225, 162.225,\n",
              "       162.225, 162.225, 162.225, 162.225, 162.225, 162.225, 162.225,\n",
              "       162.225, 165.83 , 165.83 , 165.83 , 165.83 , 165.83 , 165.83 ,\n",
              "       165.83 , 165.83 , 165.83 , 165.83 , 169.435, 169.435, 169.435,\n",
              "       169.435, 169.435, 169.435, 169.435, 169.435, 169.435, 173.04 ,\n",
              "       173.04 , 173.04 , 173.04 , 173.04 , 173.04 , 173.04 , 173.04 ,\n",
              "       176.645, 176.645, 176.645, 176.645, 176.645, 176.645, 176.645,\n",
              "       180.25 , 180.25 , 180.25 , 180.25 , 180.25 , 180.25 , 183.855,\n",
              "       183.855, 183.855, 183.855, 187.46 , 187.46 , 191.065, 191.065,\n",
              "       194.67 , 198.275])"
            ]
          },
          "metadata": {},
          "execution_count": 5
        }
      ],
      "source": [
        "data_h1 = data_h0 * 1.03\n",
        "data_h1"
      ]
    },
    {
      "cell_type": "code",
      "execution_count": 6,
      "metadata": {
        "colab": {
          "base_uri": "https://localhost:8080/"
        },
        "id": "IcmGr-Gw9Jyw",
        "outputId": "f77d75a7-ced0-46ac-a406-87bcbf5e09d5"
      },
      "outputs": [
        {
          "output_type": "execute_result",
          "data": {
            "text/plain": [
              "164.0275"
            ]
          },
          "metadata": {},
          "execution_count": 6
        }
      ],
      "source": [
        "h1_mean = np.mean(data_h1)\n",
        "h1_mean"
      ]
    },
    {
      "cell_type": "code",
      "execution_count": 7,
      "metadata": {
        "colab": {
          "base_uri": "https://localhost:8080/"
        },
        "id": "pxAJr3XS9Jyw",
        "outputId": "17604e65-42ce-4ecd-8ae3-8d73636ba36a"
      },
      "outputs": [
        {
          "output_type": "execute_result",
          "data": {
            "text/plain": [
              "14.0595"
            ]
          },
          "metadata": {},
          "execution_count": 7
        }
      ],
      "source": [
        "h1_std = np.std(data_h1)\n",
        "h1_std"
      ]
    },
    {
      "cell_type": "code",
      "execution_count": 8,
      "metadata": {
        "id": "a0ZSumER9Jyx"
      },
      "outputs": [],
      "source": [
        "alpha = 0.05"
      ]
    },
    {
      "cell_type": "markdown",
      "metadata": {
        "id": "0xE6FoVI9Jyx"
      },
      "source": [
        "## Z hypothesis test"
      ]
    },
    {
      "cell_type": "markdown",
      "metadata": {
        "id": "TQ4j0ON_9Jyx"
      },
      "source": [
        "- $ Z = \\frac{\\overline{X} - \\mu_{0}}{\\frac{\\sigma}{\\sqrt{n}}} $"
      ]
    },
    {
      "cell_type": "markdown",
      "metadata": {
        "id": "izDwHuPS9Jyx"
      },
      "source": [
        "Manual approch"
      ]
    },
    {
      "cell_type": "code",
      "execution_count": 9,
      "metadata": {
        "id": "pzQkzSeM9Jyx"
      },
      "outputs": [],
      "source": [
        "def z_test(h0, h1):\n",
        "    h0_mean = np.mean(h0)\n",
        "    h1_mean = np.mean(h1)\n",
        "    h1_std = np.std(h1)\n",
        "    h1_n = len(h1)\n",
        "\n",
        "    z = (h1_mean - h0_mean) / (h1_std / math.sqrt(h1_n))\n",
        "\n",
        "    return stats.norm.cdf(z)"
      ]
    },
    {
      "cell_type": "code",
      "execution_count": 10,
      "metadata": {
        "colab": {
          "base_uri": "https://localhost:8080/"
        },
        "id": "iamAoEV89Jyx",
        "outputId": "85809a4f-49c2-4124-ef62-97b1654507ed"
      },
      "outputs": [
        {
          "output_type": "execute_result",
          "data": {
            "text/plain": [
              "0.9996606701617486"
            ]
          },
          "metadata": {},
          "execution_count": 10
        }
      ],
      "source": [
        "z_test(data_h0, data_h1)"
      ]
    },
    {
      "cell_type": "code",
      "source": [
        "def hypothesis(p, alpha = 0.05):\n",
        "    if p < alpha:\n",
        "        print('Reject null hypothesis (H0)')\n",
        "        print('Accepting alternative hypothesis (H1)')\n",
        "    else:\n",
        "        print('Reject alternative hypothesis (H1)')\n",
        "        print('Continuing with null hypothesis (H0)')"
      ],
      "metadata": {
        "id": "BIUTkEjo-rs6"
      },
      "execution_count": 11,
      "outputs": []
    },
    {
      "cell_type": "code",
      "execution_count": 12,
      "metadata": {
        "colab": {
          "base_uri": "https://localhost:8080/"
        },
        "id": "hJWjgAKk9Jyy",
        "outputId": "8a873cea-40bc-407a-b2fe-a8088673e66d"
      },
      "outputs": [
        {
          "output_type": "stream",
          "name": "stdout",
          "text": [
            "Reject null hypothesis (H0)\n",
            "Accepting alternative hypothesis (H1)\n"
          ]
        }
      ],
      "source": [
        "p = 1 - z_test(data_h0, data_h1)\n",
        "\n",
        "hypothesis(p, alpha)"
      ]
    },
    {
      "cell_type": "markdown",
      "metadata": {
        "id": "kzZ3nMJF9Jyy"
      },
      "source": [
        "Using statsmodels library"
      ]
    },
    {
      "cell_type": "markdown",
      "metadata": {
        "id": "y-QdDZaf9Jyy"
      },
      "source": [
        "- https://www.statsmodels.org/devel/generated/statsmodels.stats.weightstats.ztest.html"
      ]
    },
    {
      "cell_type": "code",
      "execution_count": 13,
      "metadata": {
        "colab": {
          "base_uri": "https://localhost:8080/"
        },
        "id": "0xkSCWlN9Jyy",
        "outputId": "422bbc4a-c697-46cd-d828-45b04e3c162b"
      },
      "outputs": [
        {
          "output_type": "stream",
          "name": "stdout",
          "text": [
            "Reject null hypothesis (H0)\n",
            "Accepting alternative hypothesis (H1)\n"
          ]
        }
      ],
      "source": [
        "_, p = ztest(data_h0, data_h1, value=h1_mean - h0_mean, alternative='larger')\n",
        "p = 1 - p\n",
        "\n",
        "hypothesis(p, alpha)"
      ]
    },
    {
      "cell_type": "markdown",
      "metadata": {
        "id": "Po2--bbe9Jyy"
      },
      "source": [
        "## T studant distribution"
      ]
    },
    {
      "cell_type": "code",
      "execution_count": 14,
      "metadata": {
        "colab": {
          "base_uri": "https://localhost:8080/"
        },
        "id": "gcZPX8-q9Jyy",
        "outputId": "e045f98e-45d9-486d-f00a-51d7aa99dda3"
      },
      "outputs": [
        {
          "output_type": "execute_result",
          "data": {
            "text/plain": [
              "array([149., 160., 147., 189., 175., 168., 156., 160., 152.])"
            ]
          },
          "metadata": {},
          "execution_count": 14
        }
      ],
      "source": [
        "data_t_h0 = np.array([149. , 160., 147., 189., 175., 168., 156., 160., 152.])\n",
        "data_t_h0"
      ]
    },
    {
      "cell_type": "code",
      "execution_count": 15,
      "metadata": {
        "colab": {
          "base_uri": "https://localhost:8080/"
        },
        "id": "DxwxQMuL9Jyy",
        "outputId": "53a2f595-fc4b-4ca3-db76-fe3034ccf7bf"
      },
      "outputs": [
        {
          "output_type": "execute_result",
          "data": {
            "text/plain": [
              "array([153.47, 164.8 , 151.41, 194.67, 180.25, 173.04, 160.68, 164.8 ,\n",
              "       156.56])"
            ]
          },
          "metadata": {},
          "execution_count": 15
        }
      ],
      "source": [
        "data_t_h1 = data_t_h0 * 1.03\n",
        "data_t_h1"
      ]
    },
    {
      "cell_type": "code",
      "execution_count": 16,
      "metadata": {
        "colab": {
          "base_uri": "https://localhost:8080/"
        },
        "id": "XYkgRWWJ9Jyz",
        "outputId": "379a65a2-8ff3-4ada-fb60-195fae41bd1e"
      },
      "outputs": [
        {
          "output_type": "execute_result",
          "data": {
            "text/plain": [
              "4.072922493930081e-10"
            ]
          },
          "metadata": {},
          "execution_count": 16
        }
      ],
      "source": [
        "_, p = ttest_rel(data_t_h0, data_t_h1)\n",
        "p"
      ]
    },
    {
      "cell_type": "code",
      "execution_count": 17,
      "metadata": {
        "colab": {
          "base_uri": "https://localhost:8080/"
        },
        "id": "GcGb_EGA9Jyz",
        "outputId": "a77a2fe2-6c63-490e-efc4-23953ded4a54"
      },
      "outputs": [
        {
          "output_type": "stream",
          "name": "stdout",
          "text": [
            "Reject null hypothesis (H0)\n",
            "Accepting alternative hypothesis (H1)\n"
          ]
        }
      ],
      "source": [
        "alpha = 0.01\n",
        "\n",
        "hypothesis(p, alpha)"
      ]
    },
    {
      "cell_type": "markdown",
      "source": [
        "## Chi-squared test"
      ],
      "metadata": {
        "id": "Znm3wSdK_OqI"
      }
    },
    {
      "cell_type": "code",
      "source": [
        "data_chi = {\n",
        "    \"computer_vision\" : [30, 22],\n",
        "    \"search_algorithm\" : [20, 28],\n",
        "}\n",
        "\n",
        "df_chi = pd.DataFrame (data=data_chi, index=[\"man\", \"woman\"])\n",
        "df_chi.head()"
      ],
      "metadata": {
        "colab": {
          "base_uri": "https://localhost:8080/",
          "height": 112
        },
        "id": "kaNbrvWz_INc",
        "outputId": "ef30ccba-35c2-428a-a28c-5756045f8076"
      },
      "execution_count": 18,
      "outputs": [
        {
          "output_type": "execute_result",
          "data": {
            "text/plain": [
              "       computer_vision  search_algorithm\n",
              "man                 30                20\n",
              "woman               22                28"
            ],
            "text/html": [
              "<div>\n",
              "<style scoped>\n",
              "    .dataframe tbody tr th:only-of-type {\n",
              "        vertical-align: middle;\n",
              "    }\n",
              "\n",
              "    .dataframe tbody tr th {\n",
              "        vertical-align: top;\n",
              "    }\n",
              "\n",
              "    .dataframe thead th {\n",
              "        text-align: right;\n",
              "    }\n",
              "</style>\n",
              "<table border=\"1\" class=\"dataframe\">\n",
              "  <thead>\n",
              "    <tr style=\"text-align: right;\">\n",
              "      <th></th>\n",
              "      <th>computer_vision</th>\n",
              "      <th>search_algorithm</th>\n",
              "    </tr>\n",
              "  </thead>\n",
              "  <tbody>\n",
              "    <tr>\n",
              "      <th>man</th>\n",
              "      <td>30</td>\n",
              "      <td>20</td>\n",
              "    </tr>\n",
              "    <tr>\n",
              "      <th>woman</th>\n",
              "      <td>22</td>\n",
              "      <td>28</td>\n",
              "    </tr>\n",
              "  </tbody>\n",
              "</table>\n",
              "</div>"
            ]
          },
          "metadata": {},
          "execution_count": 18
        }
      ]
    },
    {
      "cell_type": "code",
      "source": [
        "data_chi_2 = {\n",
        "    \"computer_vision\" : [30, 5],\n",
        "    \"search_algorithm\" : [5, 30],\n",
        "}\n",
        "\n",
        "df_chi_2 = pd.DataFrame (data=data_chi_2, index=[\"man\", \"woman\"])\n",
        "df_chi_2.head()"
      ],
      "metadata": {
        "colab": {
          "base_uri": "https://localhost:8080/",
          "height": 112
        },
        "id": "_Wp5xP5dCT0w",
        "outputId": "cfa6b9ac-8f9c-42d6-d18d-f7469ae286bb"
      },
      "execution_count": 19,
      "outputs": [
        {
          "output_type": "execute_result",
          "data": {
            "text/plain": [
              "       computer_vision  search_algorithm\n",
              "man                 30                 5\n",
              "woman                5                30"
            ],
            "text/html": [
              "<div>\n",
              "<style scoped>\n",
              "    .dataframe tbody tr th:only-of-type {\n",
              "        vertical-align: middle;\n",
              "    }\n",
              "\n",
              "    .dataframe tbody tr th {\n",
              "        vertical-align: top;\n",
              "    }\n",
              "\n",
              "    .dataframe thead th {\n",
              "        text-align: right;\n",
              "    }\n",
              "</style>\n",
              "<table border=\"1\" class=\"dataframe\">\n",
              "  <thead>\n",
              "    <tr style=\"text-align: right;\">\n",
              "      <th></th>\n",
              "      <th>computer_vision</th>\n",
              "      <th>search_algorithm</th>\n",
              "    </tr>\n",
              "  </thead>\n",
              "  <tbody>\n",
              "    <tr>\n",
              "      <th>man</th>\n",
              "      <td>30</td>\n",
              "      <td>5</td>\n",
              "    </tr>\n",
              "    <tr>\n",
              "      <th>woman</th>\n",
              "      <td>5</td>\n",
              "      <td>30</td>\n",
              "    </tr>\n",
              "  </tbody>\n",
              "</table>\n",
              "</div>"
            ]
          },
          "metadata": {},
          "execution_count": 19
        }
      ]
    },
    {
      "cell_type": "code",
      "source": [
        "_, p, _, _ = stats.chi2_contingency(df_chi)\n",
        "print(p)\n",
        "hypothesis(p)"
      ],
      "metadata": {
        "colab": {
          "base_uri": "https://localhost:8080/"
        },
        "id": "fHgnW3ixADHm",
        "outputId": "fe4d99cb-c5dd-4d1f-d534-2042828c030d"
      },
      "execution_count": 20,
      "outputs": [
        {
          "output_type": "stream",
          "name": "stdout",
          "text": [
            "0.16117778944980238\n",
            "Reject alternative hypothesis (H1)\n",
            "Continuing with null hypothesis (H0)\n"
          ]
        }
      ]
    },
    {
      "cell_type": "code",
      "source": [
        "_, p, _, _ = stats.chi2_contingency(df_chi_2)\n",
        "print(p)\n",
        "hypothesis(p)"
      ],
      "metadata": {
        "colab": {
          "base_uri": "https://localhost:8080/"
        },
        "id": "NKwF2GIfCdgN",
        "outputId": "2526eb0a-dc8e-4766-f36f-755da314ab64"
      },
      "execution_count": 21,
      "outputs": [
        {
          "output_type": "stream",
          "name": "stdout",
          "text": [
            "9.631291707023605e-09\n",
            "Reject null hypothesis (H0)\n",
            "Accepting alternative hypothesis (H1)\n"
          ]
        }
      ]
    },
    {
      "cell_type": "markdown",
      "source": [
        "### Feature selection with hypothesis test - univariate SelectFdr\n",
        "- Fdr = False positive rate;\n",
        "- Select the pvalues below alpha based on a FPR test;\n",
        "- It's used a dependent variable to compara the results. E.i.: using t-test or z-test to compara the means;\n",
        "- This tecnique uses type 1 error, when the null hypothesis is rejected incorrectly."
      ],
      "metadata": {
        "id": "JivmLWTJFBLa"
      }
    },
    {
      "cell_type": "code",
      "source": [
        "df = pd.read_csv('Bases de dados/ad.data')\n",
        "df.head()"
      ],
      "metadata": {
        "colab": {
          "base_uri": "https://localhost:8080/",
          "height": 236
        },
        "id": "aYsfzlz4CR6r",
        "outputId": "d94c65f8-12dd-454b-9d27-c69324466fa7"
      },
      "execution_count": 22,
      "outputs": [
        {
          "output_type": "execute_result",
          "data": {
            "text/plain": [
              "    125   125.1     1.0  1  0  0.1  0.2  0.3  0.4  0.5  ...  0.1532  0.1533   \n",
              "0    57     468  8.2105  1  0    0    0    0    0    0  ...       0       0  \\\n",
              "1    33     230  6.9696  1  0    0    0    0    0    0  ...       0       0   \n",
              "2    60     468  7.8000  1  0    0    0    0    0    0  ...       0       0   \n",
              "3    60     468  7.8000  1  0    0    0    0    0    0  ...       0       0   \n",
              "4    60     468  7.8000  1  0    0    0    0    0    0  ...       0       0   \n",
              "\n",
              "   0.1534  0.1535  0.1536  0.1537  0.1538  0.1539  0.1540  ad.  \n",
              "0       0       0       0       0       0       0       0  ad.  \n",
              "1       0       0       0       0       0       0       0  ad.  \n",
              "2       0       0       0       0       0       0       0  ad.  \n",
              "3       0       0       0       0       0       0       0  ad.  \n",
              "4       0       0       0       0       0       0       0  ad.  \n",
              "\n",
              "[5 rows x 1559 columns]"
            ],
            "text/html": [
              "<div>\n",
              "<style scoped>\n",
              "    .dataframe tbody tr th:only-of-type {\n",
              "        vertical-align: middle;\n",
              "    }\n",
              "\n",
              "    .dataframe tbody tr th {\n",
              "        vertical-align: top;\n",
              "    }\n",
              "\n",
              "    .dataframe thead th {\n",
              "        text-align: right;\n",
              "    }\n",
              "</style>\n",
              "<table border=\"1\" class=\"dataframe\">\n",
              "  <thead>\n",
              "    <tr style=\"text-align: right;\">\n",
              "      <th></th>\n",
              "      <th>125</th>\n",
              "      <th>125.1</th>\n",
              "      <th>1.0</th>\n",
              "      <th>1</th>\n",
              "      <th>0</th>\n",
              "      <th>0.1</th>\n",
              "      <th>0.2</th>\n",
              "      <th>0.3</th>\n",
              "      <th>0.4</th>\n",
              "      <th>0.5</th>\n",
              "      <th>...</th>\n",
              "      <th>0.1532</th>\n",
              "      <th>0.1533</th>\n",
              "      <th>0.1534</th>\n",
              "      <th>0.1535</th>\n",
              "      <th>0.1536</th>\n",
              "      <th>0.1537</th>\n",
              "      <th>0.1538</th>\n",
              "      <th>0.1539</th>\n",
              "      <th>0.1540</th>\n",
              "      <th>ad.</th>\n",
              "    </tr>\n",
              "  </thead>\n",
              "  <tbody>\n",
              "    <tr>\n",
              "      <th>0</th>\n",
              "      <td>57</td>\n",
              "      <td>468</td>\n",
              "      <td>8.2105</td>\n",
              "      <td>1</td>\n",
              "      <td>0</td>\n",
              "      <td>0</td>\n",
              "      <td>0</td>\n",
              "      <td>0</td>\n",
              "      <td>0</td>\n",
              "      <td>0</td>\n",
              "      <td>...</td>\n",
              "      <td>0</td>\n",
              "      <td>0</td>\n",
              "      <td>0</td>\n",
              "      <td>0</td>\n",
              "      <td>0</td>\n",
              "      <td>0</td>\n",
              "      <td>0</td>\n",
              "      <td>0</td>\n",
              "      <td>0</td>\n",
              "      <td>ad.</td>\n",
              "    </tr>\n",
              "    <tr>\n",
              "      <th>1</th>\n",
              "      <td>33</td>\n",
              "      <td>230</td>\n",
              "      <td>6.9696</td>\n",
              "      <td>1</td>\n",
              "      <td>0</td>\n",
              "      <td>0</td>\n",
              "      <td>0</td>\n",
              "      <td>0</td>\n",
              "      <td>0</td>\n",
              "      <td>0</td>\n",
              "      <td>...</td>\n",
              "      <td>0</td>\n",
              "      <td>0</td>\n",
              "      <td>0</td>\n",
              "      <td>0</td>\n",
              "      <td>0</td>\n",
              "      <td>0</td>\n",
              "      <td>0</td>\n",
              "      <td>0</td>\n",
              "      <td>0</td>\n",
              "      <td>ad.</td>\n",
              "    </tr>\n",
              "    <tr>\n",
              "      <th>2</th>\n",
              "      <td>60</td>\n",
              "      <td>468</td>\n",
              "      <td>7.8000</td>\n",
              "      <td>1</td>\n",
              "      <td>0</td>\n",
              "      <td>0</td>\n",
              "      <td>0</td>\n",
              "      <td>0</td>\n",
              "      <td>0</td>\n",
              "      <td>0</td>\n",
              "      <td>...</td>\n",
              "      <td>0</td>\n",
              "      <td>0</td>\n",
              "      <td>0</td>\n",
              "      <td>0</td>\n",
              "      <td>0</td>\n",
              "      <td>0</td>\n",
              "      <td>0</td>\n",
              "      <td>0</td>\n",
              "      <td>0</td>\n",
              "      <td>ad.</td>\n",
              "    </tr>\n",
              "    <tr>\n",
              "      <th>3</th>\n",
              "      <td>60</td>\n",
              "      <td>468</td>\n",
              "      <td>7.8000</td>\n",
              "      <td>1</td>\n",
              "      <td>0</td>\n",
              "      <td>0</td>\n",
              "      <td>0</td>\n",
              "      <td>0</td>\n",
              "      <td>0</td>\n",
              "      <td>0</td>\n",
              "      <td>...</td>\n",
              "      <td>0</td>\n",
              "      <td>0</td>\n",
              "      <td>0</td>\n",
              "      <td>0</td>\n",
              "      <td>0</td>\n",
              "      <td>0</td>\n",
              "      <td>0</td>\n",
              "      <td>0</td>\n",
              "      <td>0</td>\n",
              "      <td>ad.</td>\n",
              "    </tr>\n",
              "    <tr>\n",
              "      <th>4</th>\n",
              "      <td>60</td>\n",
              "      <td>468</td>\n",
              "      <td>7.8000</td>\n",
              "      <td>1</td>\n",
              "      <td>0</td>\n",
              "      <td>0</td>\n",
              "      <td>0</td>\n",
              "      <td>0</td>\n",
              "      <td>0</td>\n",
              "      <td>0</td>\n",
              "      <td>...</td>\n",
              "      <td>0</td>\n",
              "      <td>0</td>\n",
              "      <td>0</td>\n",
              "      <td>0</td>\n",
              "      <td>0</td>\n",
              "      <td>0</td>\n",
              "      <td>0</td>\n",
              "      <td>0</td>\n",
              "      <td>0</td>\n",
              "      <td>ad.</td>\n",
              "    </tr>\n",
              "  </tbody>\n",
              "</table>\n",
              "<p>5 rows × 1559 columns</p>\n",
              "</div>"
            ]
          },
          "metadata": {},
          "execution_count": 22
        }
      ]
    },
    {
      "cell_type": "code",
      "source": [
        "df.shape"
      ],
      "metadata": {
        "colab": {
          "base_uri": "https://localhost:8080/"
        },
        "id": "f575Tb1bG5pR",
        "outputId": "f67305f4-4fa5-48a4-a8c5-ee8051533b2d"
      },
      "execution_count": 23,
      "outputs": [
        {
          "output_type": "execute_result",
          "data": {
            "text/plain": [
              "(3278, 1559)"
            ]
          },
          "metadata": {},
          "execution_count": 23
        }
      ]
    },
    {
      "cell_type": "code",
      "source": [
        "X = df.iloc[:, :-1].values\n",
        "y = df.iloc[:, -1].values\n",
        "\n",
        "X.shape, y.shape"
      ],
      "metadata": {
        "colab": {
          "base_uri": "https://localhost:8080/"
        },
        "id": "9g_fXsubG6sJ",
        "outputId": "7217aa79-4d8e-405c-fca2-a583d68d36c1"
      },
      "execution_count": 24,
      "outputs": [
        {
          "output_type": "execute_result",
          "data": {
            "text/plain": [
              "((3278, 1558), (3278,))"
            ]
          },
          "metadata": {},
          "execution_count": 24
        }
      ]
    },
    {
      "cell_type": "code",
      "source": [
        "np.unique(y, return_counts=True)"
      ],
      "metadata": {
        "colab": {
          "base_uri": "https://localhost:8080/"
        },
        "id": "YXA3ful-G99C",
        "outputId": "83bf28c8-fba5-41ea-87a8-5579771995c7"
      },
      "execution_count": 25,
      "outputs": [
        {
          "output_type": "execute_result",
          "data": {
            "text/plain": [
              "(array(['ad.', 'nonad.'], dtype=object), array([ 458, 2820]))"
            ]
          },
          "metadata": {},
          "execution_count": 25
        }
      ]
    },
    {
      "cell_type": "markdown",
      "source": [
        "#### Without feature selection"
      ],
      "metadata": {
        "id": "ADU1A_zBHSdI"
      }
    },
    {
      "cell_type": "code",
      "source": [
        "def train(X, y, model=GaussianNB()):\n",
        "    model.fit(X, y)\n",
        "    pred = model.predict(X)\n",
        "    return accuracy_score(y_true=y, y_pred=pred)"
      ],
      "metadata": {
        "id": "dKJRDcE-HPjo"
      },
      "execution_count": 26,
      "outputs": []
    },
    {
      "cell_type": "code",
      "source": [
        "train(X, y)"
      ],
      "metadata": {
        "colab": {
          "base_uri": "https://localhost:8080/"
        },
        "id": "Oe3pZn8pV03B",
        "outputId": "4da13d2d-54b0-46b4-b913-be3b8f46d25b"
      },
      "execution_count": 27,
      "outputs": [
        {
          "output_type": "execute_result",
          "data": {
            "text/plain": [
              "0.7812690665039659"
            ]
          },
          "metadata": {},
          "execution_count": 27
        }
      ]
    },
    {
      "cell_type": "markdown",
      "source": [
        "#### Using feature selection"
      ],
      "metadata": {
        "id": "9z_UmflyWDvL"
      }
    },
    {
      "cell_type": "code",
      "source": [
        "fdr = SelectFdr(chi2, alpha=0.01)\n",
        "X_new = fdr.fit_transform(X, y)\n",
        "\n",
        "X_new.shape, X.shape"
      ],
      "metadata": {
        "colab": {
          "base_uri": "https://localhost:8080/"
        },
        "id": "DwLCpe8UV6hJ",
        "outputId": "6615037e-50b7-4ebd-8168-96f3d81d1868"
      },
      "execution_count": 28,
      "outputs": [
        {
          "output_type": "execute_result",
          "data": {
            "text/plain": [
              "((3278, 433), (3278, 1558))"
            ]
          },
          "metadata": {},
          "execution_count": 28
        }
      ]
    },
    {
      "cell_type": "code",
      "source": [
        "fdr.pvalues_"
      ],
      "metadata": {
        "colab": {
          "base_uri": "https://localhost:8080/"
        },
        "id": "oWy9vvR9WVvB",
        "outputId": "d4474e5e-f514-4589-8175-937813364436"
      },
      "execution_count": 29,
      "outputs": [
        {
          "output_type": "execute_result",
          "data": {
            "text/plain": [
              "array([1.82126799e-261, 0.00000000e+000, 1.48071225e-150, ...,\n",
              "       4.89247310e-041, 5.26304043e-012, 9.32064068e-002])"
            ]
          },
          "metadata": {},
          "execution_count": 29
        }
      ]
    },
    {
      "cell_type": "code",
      "source": [
        "len(fdr.pvalues_)"
      ],
      "metadata": {
        "colab": {
          "base_uri": "https://localhost:8080/"
        },
        "id": "PdAmLzgZWZu2",
        "outputId": "ac59bcd1-8b2c-4a62-e1e1-f033b6fd942d"
      },
      "execution_count": 30,
      "outputs": [
        {
          "output_type": "execute_result",
          "data": {
            "text/plain": [
              "1558"
            ]
          },
          "metadata": {},
          "execution_count": 30
        }
      ]
    },
    {
      "cell_type": "code",
      "source": [
        "fdr.get_support()"
      ],
      "metadata": {
        "colab": {
          "base_uri": "https://localhost:8080/"
        },
        "id": "23oumUebWfdn",
        "outputId": "e9214b82-08af-4970-baf6-f1a9e64a5da6"
      },
      "execution_count": 31,
      "outputs": [
        {
          "output_type": "execute_result",
          "data": {
            "text/plain": [
              "array([ True,  True,  True, ...,  True,  True, False])"
            ]
          },
          "metadata": {},
          "execution_count": 31
        }
      ]
    },
    {
      "cell_type": "code",
      "source": [
        "fdr.get_params()"
      ],
      "metadata": {
        "colab": {
          "base_uri": "https://localhost:8080/"
        },
        "id": "qgY6UFYkWvfy",
        "outputId": "5281692a-dd0e-46d3-df98-d334c0ba3d22"
      },
      "execution_count": 32,
      "outputs": [
        {
          "output_type": "execute_result",
          "data": {
            "text/plain": [
              "{'alpha': 0.01,\n",
              " 'score_func': <function sklearn.feature_selection._univariate_selection.chi2(X, y)>}"
            ]
          },
          "metadata": {},
          "execution_count": 32
        }
      ]
    },
    {
      "cell_type": "code",
      "source": [
        "np.where(fdr.get_support() == True) #getting selected column indexes"
      ],
      "metadata": {
        "colab": {
          "base_uri": "https://localhost:8080/"
        },
        "id": "EuDCUg6SW1rm",
        "outputId": "644d93e6-aed2-4517-820f-3d911d01fe73"
      },
      "execution_count": 33,
      "outputs": [
        {
          "output_type": "execute_result",
          "data": {
            "text/plain": [
              "(array([   0,    1,    2,    9,   11,   14,   20,   21,   26,   31,   34,\n",
              "          36,   49,   58,   59,   64,   65,   69,   70,   86,   91,   95,\n",
              "          96,  102,  104,  106,  113,  133,  134,  139,  155,  158,  163,\n",
              "         167,  172,  175,  180,  181,  183,  185,  186,  189,  190,  192,\n",
              "         193,  224,  242,  246,  248,  249,  251,  259,  264,  265,  266,\n",
              "         267,  268,  269,  270,  274,  276,  278,  287,  290,  293,  304,\n",
              "         307,  310,  312,  317,  321,  329,  330,  336,  341,  345,  346,\n",
              "         350,  351,  355,  356,  357,  359,  366,  367,  370,  372,  381,\n",
              "         386,  388,  389,  398,  405,  418,  420,  426,  427,  429,  430,\n",
              "         432,  435,  440,  455,  457,  460,  465,  470,  472,  477,  478,\n",
              "         482,  508,  511,  518,  528,  532,  533,  540,  542,  548,  551,\n",
              "         556,  572,  573,  574,  576,  586,  622,  625,  627,  638,  643,\n",
              "         648,  653,  658,  661,  663,  666,  683,  688,  694,  703,  704,\n",
              "         709,  711,  720,  723,  729,  732,  734,  735,  738,  739,  744,\n",
              "         759,  762,  772,  773,  774,  783,  800,  807,  812,  813,  819,\n",
              "         825,  840,  848,  849,  860,  863,  869,  870,  873,  874,  875,\n",
              "         884,  890,  914,  917,  925,  927,  930,  942,  943,  944,  947,\n",
              "         948,  951,  955,  960,  962,  963,  967,  968,  969,  972,  973,\n",
              "         976,  983,  986,  987,  990,  992,  993, 1002, 1007, 1008, 1009,\n",
              "        1010, 1014, 1015, 1016, 1017, 1018, 1022, 1024, 1026, 1035, 1040,\n",
              "        1041, 1042, 1043, 1045, 1046, 1047, 1048, 1049, 1052, 1054, 1055,\n",
              "        1057, 1058, 1059, 1060, 1061, 1065, 1073, 1075, 1081, 1084, 1088,\n",
              "        1089, 1090, 1092, 1097, 1100, 1102, 1108, 1110, 1112, 1115, 1116,\n",
              "        1118, 1122, 1125, 1128, 1129, 1130, 1131, 1132, 1135, 1136, 1139,\n",
              "        1140, 1141, 1142, 1143, 1146, 1149, 1150, 1153, 1154, 1157, 1164,\n",
              "        1165, 1169, 1174, 1177, 1178, 1180, 1185, 1188, 1190, 1193, 1195,\n",
              "        1198, 1200, 1201, 1202, 1203, 1204, 1205, 1207, 1208, 1211, 1213,\n",
              "        1218, 1219, 1220, 1222, 1223, 1224, 1227, 1229, 1230, 1232, 1234,\n",
              "        1235, 1236, 1240, 1243, 1247, 1249, 1250, 1254, 1257, 1258, 1260,\n",
              "        1262, 1265, 1266, 1270, 1271, 1276, 1278, 1283, 1284, 1288, 1289,\n",
              "        1293, 1294, 1296, 1301, 1302, 1306, 1309, 1311, 1312, 1313, 1317,\n",
              "        1318, 1321, 1324, 1326, 1327, 1330, 1332, 1335, 1337, 1338, 1339,\n",
              "        1341, 1342, 1344, 1345, 1346, 1347, 1348, 1351, 1353, 1355, 1357,\n",
              "        1358, 1359, 1361, 1362, 1367, 1368, 1373, 1376, 1380, 1382, 1383,\n",
              "        1385, 1391, 1392, 1393, 1394, 1395, 1398, 1399, 1400, 1402, 1404,\n",
              "        1408, 1410, 1411, 1413, 1416, 1422, 1423, 1424, 1426, 1427, 1428,\n",
              "        1429, 1434, 1435, 1436, 1437, 1442, 1445, 1452, 1454, 1455, 1461,\n",
              "        1462, 1465, 1469, 1483, 1484, 1485, 1494, 1500, 1501, 1507, 1510,\n",
              "        1513, 1515, 1519, 1521, 1526, 1527, 1532, 1533, 1535, 1539, 1541,\n",
              "        1544, 1554, 1555, 1556]),)"
            ]
          },
          "metadata": {},
          "execution_count": 33
        }
      ]
    },
    {
      "cell_type": "code",
      "source": [
        "np.sum(fdr.pvalues_ <= 0.01)"
      ],
      "metadata": {
        "colab": {
          "base_uri": "https://localhost:8080/"
        },
        "id": "pcT34vtCW_HG",
        "outputId": "e4da160d-4082-48eb-cd1b-d69fbf257d32"
      },
      "execution_count": 34,
      "outputs": [
        {
          "output_type": "execute_result",
          "data": {
            "text/plain": [
              "475"
            ]
          },
          "metadata": {},
          "execution_count": 34
        }
      ]
    },
    {
      "cell_type": "code",
      "source": [
        "train(X_new,y)"
      ],
      "metadata": {
        "colab": {
          "base_uri": "https://localhost:8080/"
        },
        "id": "vAT9e88dXFI-",
        "outputId": "6c16c7a1-7734-4529-9993-2b10d2fe0f45"
      },
      "execution_count": 35,
      "outputs": [
        {
          "output_type": "execute_result",
          "data": {
            "text/plain": [
              "0.9707138499084808"
            ]
          },
          "metadata": {},
          "execution_count": 35
        }
      ]
    },
    {
      "cell_type": "markdown",
      "source": [
        "## ANOVA"
      ],
      "metadata": {
        "id": "15b54l2MhB9Z"
      }
    },
    {
      "cell_type": "code",
      "source": [
        "group_a = np.array([165, 152, 143, 140, 155])\n",
        "group_b = np.array([130, 169, 164, 143, 154])\n",
        "group_c = np.array([163, 158, 154, 149, 156])"
      ],
      "metadata": {
        "id": "mS8DjaLoXHwv"
      },
      "execution_count": 36,
      "outputs": []
    },
    {
      "cell_type": "code",
      "source": [
        "# number_groups - 1 -> 3 - 1 = 2\n",
        "dfn = 2\n",
        "\n",
        "# (number of rows - 1) * number of groups -> (5 - 1) * 3 = 12\n",
        "dfd = (len(group_a) - 1) * 3\n",
        "\n",
        "dfn, dfd"
      ],
      "metadata": {
        "colab": {
          "base_uri": "https://localhost:8080/"
        },
        "id": "v7wvKFwLhOGd",
        "outputId": "ba9f0352-8454-4aac-a228-481ffb1d3664"
      },
      "execution_count": 37,
      "outputs": [
        {
          "output_type": "execute_result",
          "data": {
            "text/plain": [
              "(2, 12)"
            ]
          },
          "metadata": {},
          "execution_count": 37
        }
      ]
    },
    {
      "cell_type": "code",
      "source": [
        "# 0.05 = alpha\n",
        "stats.f.ppf(1 - 0.05, dfn, dfd)"
      ],
      "metadata": {
        "colab": {
          "base_uri": "https://localhost:8080/"
        },
        "id": "qki2YE9DiDWf",
        "outputId": "ac84edc3-4b2a-410e-d343-6fd8f3938bd3"
      },
      "execution_count": 38,
      "outputs": [
        {
          "output_type": "execute_result",
          "data": {
            "text/plain": [
              "3.8852938346523933"
            ]
          },
          "metadata": {},
          "execution_count": 38
        }
      ]
    },
    {
      "cell_type": "code",
      "source": [
        "_, p = stats.f_oneway(group_a, group_b, group_c)\n",
        "p"
      ],
      "metadata": {
        "colab": {
          "base_uri": "https://localhost:8080/"
        },
        "id": "ngtm65imjqXg",
        "outputId": "e2590c09-5aa5-4e8f-b89f-b98cb4da1d75"
      },
      "execution_count": 39,
      "outputs": [
        {
          "output_type": "execute_result",
          "data": {
            "text/plain": [
              "0.7613994386091956"
            ]
          },
          "metadata": {},
          "execution_count": 39
        }
      ]
    },
    {
      "cell_type": "code",
      "source": [
        "hypothesis(p)"
      ],
      "metadata": {
        "colab": {
          "base_uri": "https://localhost:8080/"
        },
        "id": "0k2hQZiFj1Yg",
        "outputId": "063739be-11d6-4c69-9b7b-95b49e6abf25"
      },
      "execution_count": 40,
      "outputs": [
        {
          "output_type": "stream",
          "name": "stdout",
          "text": [
            "Reject alternative hypothesis (H1)\n",
            "Continuing with null hypothesis (H0)\n"
          ]
        }
      ]
    },
    {
      "cell_type": "markdown",
      "source": [
        "### Tukey test"
      ],
      "metadata": {
        "id": "AIrbgdpFkIzx"
      }
    },
    {
      "cell_type": "code",
      "source": [
        "data_tukey = {'values': [165, 152, 143, 140, 155, 130, 169, 164, 143, 154, 163, 158, 154, 149, 156],\n",
        "         'group': ['A', 'A', 'A', 'A', 'A', 'B', 'B', 'B', 'B', 'B', 'C', 'C', 'C', 'C', 'C']}\n",
        "\n",
        "df_tukey = pd.DataFrame(data_tukey)\n",
        "df_tukey"
      ],
      "metadata": {
        "colab": {
          "base_uri": "https://localhost:8080/",
          "height": 520
        },
        "id": "MwzbKRAWj54t",
        "outputId": "fed2b905-bae9-4f12-d7e0-5b680de25792"
      },
      "execution_count": 41,
      "outputs": [
        {
          "output_type": "execute_result",
          "data": {
            "text/plain": [
              "    values group\n",
              "0      165     A\n",
              "1      152     A\n",
              "2      143     A\n",
              "3      140     A\n",
              "4      155     A\n",
              "5      130     B\n",
              "6      169     B\n",
              "7      164     B\n",
              "8      143     B\n",
              "9      154     B\n",
              "10     163     C\n",
              "11     158     C\n",
              "12     154     C\n",
              "13     149     C\n",
              "14     156     C"
            ],
            "text/html": [
              "<div>\n",
              "<style scoped>\n",
              "    .dataframe tbody tr th:only-of-type {\n",
              "        vertical-align: middle;\n",
              "    }\n",
              "\n",
              "    .dataframe tbody tr th {\n",
              "        vertical-align: top;\n",
              "    }\n",
              "\n",
              "    .dataframe thead th {\n",
              "        text-align: right;\n",
              "    }\n",
              "</style>\n",
              "<table border=\"1\" class=\"dataframe\">\n",
              "  <thead>\n",
              "    <tr style=\"text-align: right;\">\n",
              "      <th></th>\n",
              "      <th>values</th>\n",
              "      <th>group</th>\n",
              "    </tr>\n",
              "  </thead>\n",
              "  <tbody>\n",
              "    <tr>\n",
              "      <th>0</th>\n",
              "      <td>165</td>\n",
              "      <td>A</td>\n",
              "    </tr>\n",
              "    <tr>\n",
              "      <th>1</th>\n",
              "      <td>152</td>\n",
              "      <td>A</td>\n",
              "    </tr>\n",
              "    <tr>\n",
              "      <th>2</th>\n",
              "      <td>143</td>\n",
              "      <td>A</td>\n",
              "    </tr>\n",
              "    <tr>\n",
              "      <th>3</th>\n",
              "      <td>140</td>\n",
              "      <td>A</td>\n",
              "    </tr>\n",
              "    <tr>\n",
              "      <th>4</th>\n",
              "      <td>155</td>\n",
              "      <td>A</td>\n",
              "    </tr>\n",
              "    <tr>\n",
              "      <th>5</th>\n",
              "      <td>130</td>\n",
              "      <td>B</td>\n",
              "    </tr>\n",
              "    <tr>\n",
              "      <th>6</th>\n",
              "      <td>169</td>\n",
              "      <td>B</td>\n",
              "    </tr>\n",
              "    <tr>\n",
              "      <th>7</th>\n",
              "      <td>164</td>\n",
              "      <td>B</td>\n",
              "    </tr>\n",
              "    <tr>\n",
              "      <th>8</th>\n",
              "      <td>143</td>\n",
              "      <td>B</td>\n",
              "    </tr>\n",
              "    <tr>\n",
              "      <th>9</th>\n",
              "      <td>154</td>\n",
              "      <td>B</td>\n",
              "    </tr>\n",
              "    <tr>\n",
              "      <th>10</th>\n",
              "      <td>163</td>\n",
              "      <td>C</td>\n",
              "    </tr>\n",
              "    <tr>\n",
              "      <th>11</th>\n",
              "      <td>158</td>\n",
              "      <td>C</td>\n",
              "    </tr>\n",
              "    <tr>\n",
              "      <th>12</th>\n",
              "      <td>154</td>\n",
              "      <td>C</td>\n",
              "    </tr>\n",
              "    <tr>\n",
              "      <th>13</th>\n",
              "      <td>149</td>\n",
              "      <td>C</td>\n",
              "    </tr>\n",
              "    <tr>\n",
              "      <th>14</th>\n",
              "      <td>156</td>\n",
              "      <td>C</td>\n",
              "    </tr>\n",
              "  </tbody>\n",
              "</table>\n",
              "</div>"
            ]
          },
          "metadata": {},
          "execution_count": 41
        }
      ]
    },
    {
      "cell_type": "code",
      "source": [
        "compared_groups = MultiComparison(data=df_tukey['values'], groups=df_tukey['group'])"
      ],
      "metadata": {
        "id": "YyD-txWRkZ70"
      },
      "execution_count": 42,
      "outputs": []
    },
    {
      "cell_type": "code",
      "source": [
        "tukey_test = compared_groups.tukeyhsd()\n",
        "print(tukey_test)"
      ],
      "metadata": {
        "colab": {
          "base_uri": "https://localhost:8080/"
        },
        "id": "KZtmc3zek3ST",
        "outputId": "98557126-7d89-4143-b52b-a28a61c04ea5"
      },
      "execution_count": 43,
      "outputs": [
        {
          "output_type": "stream",
          "name": "stdout",
          "text": [
            " Multiple Comparison of Means - Tukey HSD, FWER=0.05 \n",
            "=====================================================\n",
            "group1 group2 meandiff p-adj   lower    upper  reject\n",
            "-----------------------------------------------------\n",
            "     A      B      1.0 0.9891 -17.9023 19.9023  False\n",
            "     A      C      5.0 0.7648 -13.9023 23.9023  False\n",
            "     B      C      4.0 0.8411 -14.9023 22.9023  False\n",
            "-----------------------------------------------------\n"
          ]
        }
      ]
    },
    {
      "cell_type": "code",
      "source": [
        "tukey_test.plot_simultaneous();"
      ],
      "metadata": {
        "colab": {
          "base_uri": "https://localhost:8080/",
          "height": 545
        },
        "id": "jiXMwvbFli05",
        "outputId": "3e77ae5a-c043-465f-b5c7-5226816b953b"
      },
      "execution_count": 44,
      "outputs": [
        {
          "output_type": "display_data",
          "data": {
            "text/plain": [
              "<Figure size 1000x600 with 1 Axes>"
            ],
            "image/png": "[encoded data removed]"
          },
          "metadata": {}
        }
      ]
    },
    {
      "cell_type": "code",
      "source": [
        "data_tukey2 = {'values': [70, 90, 80, 50, 20, 130, 169, 164, 143, 154, 163, 158, 154, 149, 156],\n",
        "         'group': ['A', 'A', 'A', 'A', 'A', 'B', 'B', 'B', 'B', 'B', 'C', 'C', 'C', 'C', 'C']}\n",
        "\n",
        "df_tukey2 = pd.DataFrame(data_tukey2)\n",
        "df_tukey2"
      ],
      "metadata": {
        "colab": {
          "base_uri": "https://localhost:8080/",
          "height": 520
        },
        "id": "c0hJFiSalJyc",
        "outputId": "fca6e788-4063-47c4-d481-36b6b4928ca3"
      },
      "execution_count": 45,
      "outputs": [
        {
          "output_type": "execute_result",
          "data": {
            "text/plain": [
              "    values group\n",
              "0       70     A\n",
              "1       90     A\n",
              "2       80     A\n",
              "3       50     A\n",
              "4       20     A\n",
              "5      130     B\n",
              "6      169     B\n",
              "7      164     B\n",
              "8      143     B\n",
              "9      154     B\n",
              "10     163     C\n",
              "11     158     C\n",
              "12     154     C\n",
              "13     149     C\n",
              "14     156     C"
            ],
            "text/html": [
              "<div>\n",
              "<style scoped>\n",
              "    .dataframe tbody tr th:only-of-type {\n",
              "        vertical-align: middle;\n",
              "    }\n",
              "\n",
              "    .dataframe tbody tr th {\n",
              "        vertical-align: top;\n",
              "    }\n",
              "\n",
              "    .dataframe thead th {\n",
              "        text-align: right;\n",
              "    }\n",
              "</style>\n",
              "<table border=\"1\" class=\"dataframe\">\n",
              "  <thead>\n",
              "    <tr style=\"text-align: right;\">\n",
              "      <th></th>\n",
              "      <th>values</th>\n",
              "      <th>group</th>\n",
              "    </tr>\n",
              "  </thead>\n",
              "  <tbody>\n",
              "    <tr>\n",
              "      <th>0</th>\n",
              "      <td>70</td>\n",
              "      <td>A</td>\n",
              "    </tr>\n",
              "    <tr>\n",
              "      <th>1</th>\n",
              "      <td>90</td>\n",
              "      <td>A</td>\n",
              "    </tr>\n",
              "    <tr>\n",
              "      <th>2</th>\n",
              "      <td>80</td>\n",
              "      <td>A</td>\n",
              "    </tr>\n",
              "    <tr>\n",
              "      <th>3</th>\n",
              "      <td>50</td>\n",
              "      <td>A</td>\n",
              "    </tr>\n",
              "    <tr>\n",
              "      <th>4</th>\n",
              "      <td>20</td>\n",
              "      <td>A</td>\n",
              "    </tr>\n",
              "    <tr>\n",
              "      <th>5</th>\n",
              "      <td>130</td>\n",
              "      <td>B</td>\n",
              "    </tr>\n",
              "    <tr>\n",
              "      <th>6</th>\n",
              "      <td>169</td>\n",
              "      <td>B</td>\n",
              "    </tr>\n",
              "    <tr>\n",
              "      <th>7</th>\n",
              "      <td>164</td>\n",
              "      <td>B</td>\n",
              "    </tr>\n",
              "    <tr>\n",
              "      <th>8</th>\n",
              "      <td>143</td>\n",
              "      <td>B</td>\n",
              "    </tr>\n",
              "    <tr>\n",
              "      <th>9</th>\n",
              "      <td>154</td>\n",
              "      <td>B</td>\n",
              "    </tr>\n",
              "    <tr>\n",
              "      <th>10</th>\n",
              "      <td>163</td>\n",
              "      <td>C</td>\n",
              "    </tr>\n",
              "    <tr>\n",
              "      <th>11</th>\n",
              "      <td>158</td>\n",
              "      <td>C</td>\n",
              "    </tr>\n",
              "    <tr>\n",
              "      <th>12</th>\n",
              "      <td>154</td>\n",
              "      <td>C</td>\n",
              "    </tr>\n",
              "    <tr>\n",
              "      <th>13</th>\n",
              "      <td>149</td>\n",
              "      <td>C</td>\n",
              "    </tr>\n",
              "    <tr>\n",
              "      <th>14</th>\n",
              "      <td>156</td>\n",
              "      <td>C</td>\n",
              "    </tr>\n",
              "  </tbody>\n",
              "</table>\n",
              "</div>"
            ]
          },
          "metadata": {},
          "execution_count": 45
        }
      ]
    },
    {
      "cell_type": "code",
      "source": [
        "compared_groups2 = MultiComparison(data=df_tukey2['values'], groups=df_tukey2['group'])\n",
        "tukey_test2 = compared_groups2.tukeyhsd()\n",
        "print(tukey_test2)"
      ],
      "metadata": {
        "colab": {
          "base_uri": "https://localhost:8080/"
        },
        "id": "VWzC-63QlQcR",
        "outputId": "3e25b95b-cad3-4acc-9a79-71b5d8045193"
      },
      "execution_count": 46,
      "outputs": [
        {
          "output_type": "stream",
          "name": "stdout",
          "text": [
            " Multiple Comparison of Means - Tukey HSD, FWER=0.05  \n",
            "======================================================\n",
            "group1 group2 meandiff p-adj   lower    upper   reject\n",
            "------------------------------------------------------\n",
            "     A      B     90.0    0.0  58.4785 121.5215   True\n",
            "     A      C     94.0    0.0  62.4785 125.5215   True\n",
            "     B      C      4.0 0.9391 -27.5215  35.5215  False\n",
            "------------------------------------------------------\n"
          ]
        }
      ]
    },
    {
      "cell_type": "code",
      "source": [
        "tukey_test2.plot_simultaneous();"
      ],
      "metadata": {
        "colab": {
          "base_uri": "https://localhost:8080/",
          "height": 545
        },
        "id": "uDCt5YgHlZXc",
        "outputId": "fdac0183-2d94-4dd5-d163-9cfbb24321dd"
      },
      "execution_count": 47,
      "outputs": [
        {
          "output_type": "display_data",
          "data": {
            "text/plain": [
              "<Figure size 1000x600 with 1 Axes>"
            ],
            "image/png": "[encoded data removed]"
          },
          "metadata": {}
        }
      ]
    },
    {
      "cell_type": "markdown",
      "source": [
        "### Feature selection with SelectFdr using ANOVA approach"
      ],
      "metadata": {
        "id": "ZFzB8aZum1yM"
      }
    },
    {
      "cell_type": "code",
      "source": [
        "fdr_anova = SelectFdr(f_classif, alpha=0.01)\n",
        "X_new_anova = fdr_anova.fit_transform(X, y)\n",
        "\n",
        "X.shape, X_new_anova.shape"
      ],
      "metadata": {
        "colab": {
          "base_uri": "https://localhost:8080/"
        },
        "id": "ms9O57jxl4cY",
        "outputId": "5d72df02-0f2b-4a31-b879-55666a66193f"
      },
      "execution_count": 48,
      "outputs": [
        {
          "output_type": "execute_result",
          "data": {
            "text/plain": [
              "((3278, 1558), (3278, 433))"
            ]
          },
          "metadata": {},
          "execution_count": 48
        }
      ]
    },
    {
      "cell_type": "code",
      "source": [
        "fdr_anova.pvalues_"
      ],
      "metadata": {
        "colab": {
          "base_uri": "https://localhost:8080/"
        },
        "id": "kAjJZ-CKnOie",
        "outputId": "c42e056a-8bf7-44eb-b1fe-e43216bf1795"
      },
      "execution_count": 49,
      "outputs": [
        {
          "output_type": "execute_result",
          "data": {
            "text/plain": [
              "array([1.70329879e-005, 5.94073696e-201, 4.11884494e-016, ...,\n",
              "       1.08388800e-042, 3.52133284e-012, 9.30110659e-002])"
            ]
          },
          "metadata": {},
          "execution_count": 49
        }
      ]
    },
    {
      "cell_type": "code",
      "source": [
        "np.sum(fdr.pvalues_ <= 0.01)"
      ],
      "metadata": {
        "colab": {
          "base_uri": "https://localhost:8080/"
        },
        "id": "kQ2UutzWnUDy",
        "outputId": "e888a1c0-021a-4e6a-b25e-c0ef8af1674c"
      },
      "execution_count": 50,
      "outputs": [
        {
          "output_type": "execute_result",
          "data": {
            "text/plain": [
              "475"
            ]
          },
          "metadata": {},
          "execution_count": 50
        }
      ]
    },
    {
      "cell_type": "code",
      "source": [
        "train(X_new_anova, y)"
      ],
      "metadata": {
        "colab": {
          "base_uri": "https://localhost:8080/"
        },
        "id": "O926MHpgnXHy",
        "outputId": "13d90992-3a8d-4673-a8ef-4e191a1e9183"
      },
      "execution_count": 51,
      "outputs": [
        {
          "output_type": "execute_result",
          "data": {
            "text/plain": [
              "0.9707138499084808"
            ]
          },
          "metadata": {},
          "execution_count": 51
        }
      ]
    },
    {
      "cell_type": "markdown",
      "source": [
        "## Hypothesis test from machine learning algorithms accuracies"
      ],
      "metadata": {
        "id": "SjBia30PuQac"
      }
    },
    {
      "cell_type": "code",
      "source": [
        "df = pd.read_csv('Bases de dados/credit_data.csv')\n",
        "df.dropna(inplace=True)\n",
        "df.head()"
      ],
      "metadata": {
        "colab": {
          "base_uri": "https://localhost:8080/",
          "height": 206
        },
        "id": "mmv1Oc40naaf",
        "outputId": "e2a92752-b120-4b80-e5ae-3bcb772afc54"
      },
      "execution_count": 52,
      "outputs": [
        {
          "output_type": "execute_result",
          "data": {
            "text/plain": [
              "   i#clientid        income        age         loan  c#default\n",
              "0           1  66155.925095  59.017015  8106.532131          0\n",
              "1           2  34415.153966  48.117153  6564.745018          0\n",
              "2           3  57317.170063  63.108049  8020.953296          0\n",
              "3           4  42709.534201  45.751972  6103.642260          0\n",
              "4           5  66952.688845  18.584336  8770.099235          1"
            ],
            "text/html": [
              "<div>\n",
              "<style scoped>\n",
              "    .dataframe tbody tr th:only-of-type {\n",
              "        vertical-align: middle;\n",
              "    }\n",
              "\n",
              "    .dataframe tbody tr th {\n",
              "        vertical-align: top;\n",
              "    }\n",
              "\n",
              "    .dataframe thead th {\n",
              "        text-align: right;\n",
              "    }\n",
              "</style>\n",
              "<table border=\"1\" class=\"dataframe\">\n",
              "  <thead>\n",
              "    <tr style=\"text-align: right;\">\n",
              "      <th></th>\n",
              "      <th>i#clientid</th>\n",
              "      <th>income</th>\n",
              "      <th>age</th>\n",
              "      <th>loan</th>\n",
              "      <th>c#default</th>\n",
              "    </tr>\n",
              "  </thead>\n",
              "  <tbody>\n",
              "    <tr>\n",
              "      <th>0</th>\n",
              "      <td>1</td>\n",
              "      <td>66155.925095</td>\n",
              "      <td>59.017015</td>\n",
              "      <td>8106.532131</td>\n",
              "      <td>0</td>\n",
              "    </tr>\n",
              "    <tr>\n",
              "      <th>1</th>\n",
              "      <td>2</td>\n",
              "      <td>34415.153966</td>\n",
              "      <td>48.117153</td>\n",
              "      <td>6564.745018</td>\n",
              "      <td>0</td>\n",
              "    </tr>\n",
              "    <tr>\n",
              "      <th>2</th>\n",
              "      <td>3</td>\n",
              "      <td>57317.170063</td>\n",
              "      <td>63.108049</td>\n",
              "      <td>8020.953296</td>\n",
              "      <td>0</td>\n",
              "    </tr>\n",
              "    <tr>\n",
              "      <th>3</th>\n",
              "      <td>4</td>\n",
              "      <td>42709.534201</td>\n",
              "      <td>45.751972</td>\n",
              "      <td>6103.642260</td>\n",
              "      <td>0</td>\n",
              "    </tr>\n",
              "    <tr>\n",
              "      <th>4</th>\n",
              "      <td>5</td>\n",
              "      <td>66952.688845</td>\n",
              "      <td>18.584336</td>\n",
              "      <td>8770.099235</td>\n",
              "      <td>1</td>\n",
              "    </tr>\n",
              "  </tbody>\n",
              "</table>\n",
              "</div>"
            ]
          },
          "metadata": {},
          "execution_count": 52
        }
      ]
    },
    {
      "cell_type": "code",
      "source": [
        "X = df.iloc[:, 1:-1].values\n",
        "y = df.iloc[:, -1].values\n",
        "\n",
        "X.shape, y.shape"
      ],
      "metadata": {
        "colab": {
          "base_uri": "https://localhost:8080/"
        },
        "id": "NDUMIALDu-hE",
        "outputId": "53fc35c0-de3d-4bcd-e338-98fedeb96812"
      },
      "execution_count": 53,
      "outputs": [
        {
          "output_type": "execute_result",
          "data": {
            "text/plain": [
              "((1997, 3), (1997,))"
            ]
          },
          "metadata": {},
          "execution_count": 53
        }
      ]
    },
    {
      "cell_type": "code",
      "source": [
        "min(X[0]), max(X[0])"
      ],
      "metadata": {
        "colab": {
          "base_uri": "https://localhost:8080/"
        },
        "id": "3y4uZP6QvTVL",
        "outputId": "5253ccb4-7d33-473e-a3b5-783a04e68500"
      },
      "execution_count": 54,
      "outputs": [
        {
          "output_type": "execute_result",
          "data": {
            "text/plain": [
              "(59.0170150669292, 66155.9250950813)"
            ]
          },
          "metadata": {},
          "execution_count": 54
        }
      ]
    },
    {
      "cell_type": "code",
      "source": [
        "scaler = StandardScaler()\n",
        "X = scaler.fit_transform(X)\n",
        "min(X[0]), max(X[0])"
      ],
      "metadata": {
        "colab": {
          "base_uri": "https://localhost:8080/"
        },
        "id": "3fkoroI5vJiN",
        "outputId": "02963f3a-8d0b-44d2-a1bc-dd7e449a730c"
      },
      "execution_count": 55,
      "outputs": [
        {
          "output_type": "execute_result",
          "data": {
            "text/plain": [
              "(1.2019070702053862, 1.4538977547824534)"
            ]
          },
          "metadata": {},
          "execution_count": 55
        }
      ]
    },
    {
      "cell_type": "code",
      "source": [
        "def train_model(model, X, y, random_state=1):\n",
        "    kfold = KFold(n_splits=10, shuffle=True, random_state=random_state)\n",
        "\n",
        "    scores = cross_val_score(estimator=model, X=X, y=y, cv=kfold)\n",
        "\n",
        "    return scores.mean()"
      ],
      "metadata": {
        "id": "XFgGWCLOvwBm"
      },
      "execution_count": 56,
      "outputs": []
    },
    {
      "cell_type": "code",
      "source": [
        "res_nb = []\n",
        "res_lr = []\n",
        "res_rf = []\n",
        "\n",
        "for i in tqdm(range(30)):\n",
        "    res_nb.append(train_model(model=GaussianNB(), X=X, y=y, random_state=i))\n",
        "    res_lr.append(train_model(model=LogisticRegression(), X=X, y=y, random_state=i))\n",
        "    res_rf.append(train_model(model=RandomForestClassifier(), X=X, y=y, random_state=i))\n",
        "\n",
        "res_nb = np.asarray(res_nb)\n",
        "res_lr = np.asarray(res_lr)\n",
        "res_rf = np.asarray(res_rf)"
      ],
      "metadata": {
        "colab": {
          "base_uri": "https://localhost:8080/"
        },
        "id": "xw_DCsNpwbr7",
        "outputId": "f0268f7a-a9e6-4cb8-8bbc-21a2dc93d399"
      },
      "execution_count": 59,
      "outputs": [
        {
          "output_type": "stream",
          "name": "stderr",
          "text": [
            "100%|███████████████████████████████████████████| 30/30 [00:34<00:00,  1.16s/it]\n"
          ]
        }
      ]
    },
    {
      "cell_type": "code",
      "source": [
        "res_nb.mean(), res_lr.mean(), res_rf.mean()"
      ],
      "metadata": {
        "colab": {
          "base_uri": "https://localhost:8080/"
        },
        "id": "mw2hEeWZyrWi",
        "outputId": "7ded5737-82f5-4bb4-a7d1-c0ee513db1cf"
      },
      "execution_count": 60,
      "outputs": [
        {
          "output_type": "execute_result",
          "data": {
            "text/plain": [
              "(0.9249859296482411, 0.9457008375209381, 0.9867138190954774)"
            ]
          },
          "metadata": {},
          "execution_count": 60
        }
      ]
    },
    {
      "cell_type": "markdown",
      "source": [
        "### Shapiro-Wilk test if the distribution is normal"
      ],
      "metadata": {
        "id": "qrtqATr10d07"
      }
    },
    {
      "cell_type": "code",
      "source": [
        "alpha = 0.05 #95% confidence"
      ],
      "metadata": {
        "id": "X9Egw_7m0b09"
      },
      "execution_count": 61,
      "outputs": []
    },
    {
      "cell_type": "code",
      "source": [
        "shapiro = lambda x : print(f'Its a Normal Distribution with p value {stats.shapiro(x)[1]}' if stats.shapiro(x)[1] > alpha else 'Its not a Normal Distribution')"
      ],
      "metadata": {
        "id": "hlrHShsm0kE8"
      },
      "execution_count": 76,
      "outputs": []
    },
    {
      "cell_type": "code",
      "source": [
        "shapiro(res_nb)\n",
        "shapiro(res_lr)\n",
        "shapiro(res_rf)"
      ],
      "metadata": {
        "colab": {
          "base_uri": "https://localhost:8080/"
        },
        "id": "ohlHV7Mp1RDB",
        "outputId": "a9af2af4-7c37-4070-b5f8-969bfce00398"
      },
      "execution_count": 77,
      "outputs": [
        {
          "output_type": "stream",
          "name": "stdout",
          "text": [
            "Its a Normal Distribution with p value 0.40516602993011475\n",
            "Its a Normal Distribution with p value 0.13457602262496948\n",
            "Its a Normal Distribution with p value 0.45411714911460876\n"
          ]
        }
      ]
    },
    {
      "cell_type": "code",
      "source": [
        "sns.histplot(res_nb, kde=True);"
      ],
      "metadata": {
        "colab": {
          "base_uri": "https://localhost:8080/",
          "height": 430
        },
        "id": "2tz2ZJz91VVz",
        "outputId": "604a0dc4-0672-43da-82a4-a7fd2eca90a1"
      },
      "execution_count": 73,
      "outputs": [
        {
          "output_type": "display_data",
          "data": {
            "text/plain": [
              "<Figure size 640x480 with 1 Axes>"
            ],
            "image/png": "[encoded data removed]"
          },
          "metadata": {}
        }
      ]
    },
    {
      "cell_type": "code",
      "source": [
        "sns.histplot(res_lr, kde=True);"
      ],
      "metadata": {
        "colab": {
          "base_uri": "https://localhost:8080/",
          "height": 430
        },
        "id": "MG_kqn7S1wuH",
        "outputId": "54408610-eb3d-4c39-c5e1-db14ae571f41"
      },
      "execution_count": 74,
      "outputs": [
        {
          "output_type": "display_data",
          "data": {
            "text/plain": [
              "<Figure size 640x480 with 1 Axes>"
            ],
            "image/png": "[encoded data removed]"
          },
          "metadata": {}
        }
      ]
    },
    {
      "cell_type": "code",
      "source": [
        "sns.histplot(res_rf, kde=True);"
      ],
      "metadata": {
        "colab": {
          "base_uri": "https://localhost:8080/",
          "height": 430
        },
        "id": "ZoOF6GLE10mD",
        "outputId": "76e1e1df-93fd-4b41-dd59-174fe9ff954c"
      },
      "execution_count": 75,
      "outputs": [
        {
          "output_type": "display_data",
          "data": {
            "text/plain": [
              "<Figure size 640x480 with 1 Axes>"
            ],
            "image/png": "[encoded data removed]"
          },
          "metadata": {}
        }
      ]
    },
    {
      "cell_type": "markdown",
      "source": [
        "### D'Agostinho K^2 test if the distribution is normal"
      ],
      "metadata": {
        "id": "DaDB5kiG2Gb6"
      }
    },
    {
      "cell_type": "code",
      "source": [
        "normal_test = lambda x : print(f'Its a Normal Distribution with p value {stats.normaltest(x)[1]}' if stats.normaltest(x)[1] > alpha else 'Its not a Normal Distribution')"
      ],
      "metadata": {
        "id": "0v5N2TPj2CdP"
      },
      "execution_count": 78,
      "outputs": []
    },
    {
      "cell_type": "code",
      "source": [
        "normal_test(res_nb)\n",
        "normal_test(res_lr)\n",
        "normal_test(res_rf)"
      ],
      "metadata": {
        "colab": {
          "base_uri": "https://localhost:8080/"
        },
        "id": "5ZVLyh8a2XxU",
        "outputId": "4dd677ce-01a2-4e50-b781-664a59a06c08"
      },
      "execution_count": 79,
      "outputs": [
        {
          "output_type": "stream",
          "name": "stdout",
          "text": [
            "Its a Normal Distribution with p value 0.6573205784978502\n",
            "Its a Normal Distribution with p value 0.1300771631514313\n",
            "Its a Normal Distribution with p value 0.8951107181132326\n"
          ]
        }
      ]
    },
    {
      "cell_type": "markdown",
      "source": [
        "### Anderson-darling test if the distribution is normal"
      ],
      "metadata": {
        "id": "K7el5KHp2rdG"
      }
    },
    {
      "cell_type": "code",
      "source": [
        "anderson = lambda x : print(f'Its a Normal Distribution with p value {stats.anderson(x).statistic}' if stats.anderson(x).statistic > alpha else 'Its not a Normal Distribution')"
      ],
      "metadata": {
        "id": "sEirAUw-2bnk"
      },
      "execution_count": 83,
      "outputs": []
    },
    {
      "cell_type": "code",
      "source": [
        "anderson(res_nb)\n",
        "anderson(res_lr)\n",
        "anderson(res_rf)"
      ],
      "metadata": {
        "colab": {
          "base_uri": "https://localhost:8080/"
        },
        "id": "E_7VkAbd22lP",
        "outputId": "d6a88d3a-b9f7-4ee6-b24e-1fbc299fc497"
      },
      "execution_count": 86,
      "outputs": [
        {
          "output_type": "stream",
          "name": "stdout",
          "text": [
            "Its a Normal Distribution with p value 0.5456346672421084\n",
            "Its a Normal Distribution with p value 0.6048933015735933\n",
            "Its a Normal Distribution with p value 0.4512024621199515\n"
          ]
        }
      ]
    },
    {
      "cell_type": "markdown",
      "source": [
        "### Nonparametric test\n",
        "\n",
        "- https://www.statisticshowto.com/parametric-and-non-parametric-data/#:~:text=Nonparametric%20tests%20can%20perform%20well,20%20items%20in%20each%20group).\n",
        "\n",
        "If at all possible, you should us parametric tests, as they tend to be more accurate. Parametric tests have greater statistical power, which means they are likely to find a true significant effect. Use nonparametric tests only if you have to (i.e. you know that assumptions like normality are being violated). Nonparametric tests can perform well with non-normal continuous data if you have a sufficiently large sample size (generally 15-20 items in each group)."
      ],
      "metadata": {
        "id": "hpl4rx7q5uuY"
      }
    },
    {
      "cell_type": "markdown",
      "source": [
        "- H0 = similar data\n",
        "- h1 = nonsimilar data"
      ],
      "metadata": {
        "id": "8fME0F467hu3"
      }
    },
    {
      "cell_type": "markdown",
      "source": [
        "#### Wilcoxon Signed-Rank test"
      ],
      "metadata": {
        "id": "lMQnOFWF51vH"
      }
    },
    {
      "cell_type": "code",
      "source": [
        "_, p = stats.wilcoxon(res_nb, res_lr)\n",
        "hypothesis(p)"
      ],
      "metadata": {
        "colab": {
          "base_uri": "https://localhost:8080/"
        },
        "id": "Ij0aW5H826ae",
        "outputId": "d4477b89-dc07-4df0-8759-a002531c752f"
      },
      "execution_count": 87,
      "outputs": [
        {
          "output_type": "stream",
          "name": "stdout",
          "text": [
            "Reject null hypothesis (H0)\n",
            "Accepting alternative hypothesis (H1)\n"
          ]
        }
      ]
    },
    {
      "cell_type": "code",
      "source": [
        "_, p = stats.wilcoxon(res_nb, res_rf)\n",
        "hypothesis(p)"
      ],
      "metadata": {
        "colab": {
          "base_uri": "https://localhost:8080/"
        },
        "id": "pzFbbt537a4G",
        "outputId": "e9d65447-36b6-49e9-9578-e15a5e8abebe"
      },
      "execution_count": 88,
      "outputs": [
        {
          "output_type": "stream",
          "name": "stdout",
          "text": [
            "Reject null hypothesis (H0)\n",
            "Accepting alternative hypothesis (H1)\n"
          ]
        }
      ]
    },
    {
      "cell_type": "code",
      "source": [
        "_, p = stats.wilcoxon(res_lr, res_rf)\n",
        "hypothesis(p)"
      ],
      "metadata": {
        "colab": {
          "base_uri": "https://localhost:8080/"
        },
        "id": "sOYTLThT7e3E",
        "outputId": "5b4ee4ed-4de8-4a0d-c4e7-05d19fed1adb"
      },
      "execution_count": 89,
      "outputs": [
        {
          "output_type": "stream",
          "name": "stdout",
          "text": [
            "Reject null hypothesis (H0)\n",
            "Accepting alternative hypothesis (H1)\n"
          ]
        }
      ]
    },
    {
      "cell_type": "markdown",
      "source": [
        "#### Friedman test"
      ],
      "metadata": {
        "id": "cdNoyKYU57ZQ"
      }
    },
    {
      "cell_type": "code",
      "source": [
        "stats.friedmanchisquare(res_nb, res_lr, res_rf)\n",
        "hypothesis(p)"
      ],
      "metadata": {
        "colab": {
          "base_uri": "https://localhost:8080/"
        },
        "id": "72BRXIRs5_5v",
        "outputId": "8f125ab7-b8c5-4dda-fe83-c1ce4922ff59"
      },
      "execution_count": 91,
      "outputs": [
        {
          "output_type": "stream",
          "name": "stdout",
          "text": [
            "Reject null hypothesis (H0)\n",
            "Accepting alternative hypothesis (H1)\n"
          ]
        }
      ]
    },
    {
      "cell_type": "markdown",
      "source": [
        "### ANOVA and Tukey algorithms"
      ],
      "metadata": {
        "id": "dUbALshE9FsA"
      }
    },
    {
      "cell_type": "code",
      "source": [
        "_, p = stats.f_oneway(res_nb, res_lr, res_rf)\n",
        "hypothesis(p)"
      ],
      "metadata": {
        "colab": {
          "base_uri": "https://localhost:8080/"
        },
        "id": "CIz-nqI87-_8",
        "outputId": "c12cdfa5-ec26-44a8-f290-24d77588da12"
      },
      "execution_count": 93,
      "outputs": [
        {
          "output_type": "stream",
          "name": "stdout",
          "text": [
            "Reject null hypothesis (H0)\n",
            "Accepting alternative hypothesis (H1)\n"
          ]
        }
      ]
    },
    {
      "cell_type": "code",
      "source": [
        "res_models = {\n",
        "    \"accuracy\" : np.concatenate([res_nb, res_lr, res_rf]),\n",
        "    \"algorithm\" : ['naive'] * len(res_nb) + ['logistic'] * len(res_lr) + ['forest'] * len(res_rf)\n",
        "}\n",
        "\n",
        "df_models = pd.DataFrame(res_models)\n",
        "df_models.head()"
      ],
      "metadata": {
        "colab": {
          "base_uri": "https://localhost:8080/",
          "height": 206
        },
        "id": "a06beAcX9ZL_",
        "outputId": "2a5685a5-ddc2-4deb-ab5f-1a4518847b5c"
      },
      "execution_count": 98,
      "outputs": [
        {
          "output_type": "execute_result",
          "data": {
            "text/plain": [
              "   accuracy algorithm\n",
              "0  0.924862     naive\n",
              "1  0.924917     naive\n",
              "2  0.924387     naive\n",
              "3  0.922882     naive\n",
              "4  0.924872     naive"
            ],
            "text/html": [
              "<div>\n",
              "<style scoped>\n",
              "    .dataframe tbody tr th:only-of-type {\n",
              "        vertical-align: middle;\n",
              "    }\n",
              "\n",
              "    .dataframe tbody tr th {\n",
              "        vertical-align: top;\n",
              "    }\n",
              "\n",
              "    .dataframe thead th {\n",
              "        text-align: right;\n",
              "    }\n",
              "</style>\n",
              "<table border=\"1\" class=\"dataframe\">\n",
              "  <thead>\n",
              "    <tr style=\"text-align: right;\">\n",
              "      <th></th>\n",
              "      <th>accuracy</th>\n",
              "      <th>algorithm</th>\n",
              "    </tr>\n",
              "  </thead>\n",
              "  <tbody>\n",
              "    <tr>\n",
              "      <th>0</th>\n",
              "      <td>0.924862</td>\n",
              "      <td>naive</td>\n",
              "    </tr>\n",
              "    <tr>\n",
              "      <th>1</th>\n",
              "      <td>0.924917</td>\n",
              "      <td>naive</td>\n",
              "    </tr>\n",
              "    <tr>\n",
              "      <th>2</th>\n",
              "      <td>0.924387</td>\n",
              "      <td>naive</td>\n",
              "    </tr>\n",
              "    <tr>\n",
              "      <th>3</th>\n",
              "      <td>0.922882</td>\n",
              "      <td>naive</td>\n",
              "    </tr>\n",
              "    <tr>\n",
              "      <th>4</th>\n",
              "      <td>0.924872</td>\n",
              "      <td>naive</td>\n",
              "    </tr>\n",
              "  </tbody>\n",
              "</table>\n",
              "</div>"
            ]
          },
          "metadata": {},
          "execution_count": 98
        }
      ]
    },
    {
      "cell_type": "code",
      "source": [
        "df_models.algorithm.value_counts()"
      ],
      "metadata": {
        "colab": {
          "base_uri": "https://localhost:8080/"
        },
        "id": "5XqVJdzl-Aaq",
        "outputId": "3278c548-ef57-4bad-ebb7-5bd7a002039a"
      },
      "execution_count": 99,
      "outputs": [
        {
          "output_type": "execute_result",
          "data": {
            "text/plain": [
              "algorithm\n",
              "naive       30\n",
              "logistic    30\n",
              "forest      30\n",
              "Name: count, dtype: int64"
            ]
          },
          "metadata": {},
          "execution_count": 99
        }
      ]
    },
    {
      "cell_type": "code",
      "source": [
        "compared_models = MultiComparison(data=df_models.accuracy, groups=df_models.algorithm)\n",
        "tukey_test_models = compared_models.tukeyhsd()\n",
        "print(tukey_test_models)"
      ],
      "metadata": {
        "colab": {
          "base_uri": "https://localhost:8080/"
        },
        "id": "mZbfrCwQ-Rjy",
        "outputId": "c36877c8-49c3-4e5b-a078-e5e1f93924a9"
      },
      "execution_count": 101,
      "outputs": [
        {
          "output_type": "stream",
          "name": "stdout",
          "text": [
            "  Multiple Comparison of Means - Tukey HSD, FWER=0.05  \n",
            "=======================================================\n",
            " group1   group2  meandiff p-adj  lower   upper  reject\n",
            "-------------------------------------------------------\n",
            "  forest logistic   -0.041   0.0 -0.0417 -0.0403   True\n",
            "  forest    naive  -0.0617   0.0 -0.0624 -0.0611   True\n",
            "logistic    naive  -0.0207   0.0 -0.0214   -0.02   True\n",
            "-------------------------------------------------------\n"
          ]
        }
      ]
    },
    {
      "cell_type": "code",
      "source": [
        "tukey_test_models.plot_simultaneous();"
      ],
      "metadata": {
        "colab": {
          "base_uri": "https://localhost:8080/",
          "height": 545
        },
        "id": "L09RiEbE-nba",
        "outputId": "afd092b1-9526-41e7-e0df-cc0d1af126ed"
      },
      "execution_count": 103,
      "outputs": [
        {
          "output_type": "display_data",
          "data": {
            "text/plain": [
              "<Figure size 1000x600 with 1 Axes>"
            ],
            "image/png": "[encoded data removed]"
          },
          "metadata": {}
        }
      ]
    },
    {
      "cell_type": "markdown",
      "source": [
        "## Nonnormal data"
      ],
      "metadata": {
        "id": "0CAT1mN7DH92"
      }
    },
    {
      "cell_type": "code",
      "source": [
        "df_nonnormal = pd.read_csv('Bases de dados/trip_d1_d2.csv', sep=';')\n",
        "df_nonnormal.head()"
      ],
      "metadata": {
        "colab": {
          "base_uri": "https://localhost:8080/",
          "height": 206
        },
        "id": "IUeDtBrf-ur4",
        "outputId": "85c5090e-f126-4357-d6c8-4e79b143dd5f"
      },
      "execution_count": 105,
      "outputs": [
        {
          "output_type": "execute_result",
          "data": {
            "text/plain": [
              "       D1      D2\n",
              "0  0.7928  0.7983\n",
              "1  0.7926  0.7983\n",
              "2  0.7925  0.7982\n",
              "3  0.7928  0.7982\n",
              "4  0.7928  0.7982"
            ],
            "text/html": [
              "<div>\n",
              "<style scoped>\n",
              "    .dataframe tbody tr th:only-of-type {\n",
              "        vertical-align: middle;\n",
              "    }\n",
              "\n",
              "    .dataframe tbody tr th {\n",
              "        vertical-align: top;\n",
              "    }\n",
              "\n",
              "    .dataframe thead th {\n",
              "        text-align: right;\n",
              "    }\n",
              "</style>\n",
              "<table border=\"1\" class=\"dataframe\">\n",
              "  <thead>\n",
              "    <tr style=\"text-align: right;\">\n",
              "      <th></th>\n",
              "      <th>D1</th>\n",
              "      <th>D2</th>\n",
              "    </tr>\n",
              "  </thead>\n",
              "  <tbody>\n",
              "    <tr>\n",
              "      <th>0</th>\n",
              "      <td>0.7928</td>\n",
              "      <td>0.7983</td>\n",
              "    </tr>\n",
              "    <tr>\n",
              "      <th>1</th>\n",
              "      <td>0.7926</td>\n",
              "      <td>0.7983</td>\n",
              "    </tr>\n",
              "    <tr>\n",
              "      <th>2</th>\n",
              "      <td>0.7925</td>\n",
              "      <td>0.7982</td>\n",
              "    </tr>\n",
              "    <tr>\n",
              "      <th>3</th>\n",
              "      <td>0.7928</td>\n",
              "      <td>0.7982</td>\n",
              "    </tr>\n",
              "    <tr>\n",
              "      <th>4</th>\n",
              "      <td>0.7928</td>\n",
              "      <td>0.7982</td>\n",
              "    </tr>\n",
              "  </tbody>\n",
              "</table>\n",
              "</div>"
            ]
          },
          "metadata": {},
          "execution_count": 105
        }
      ]
    },
    {
      "cell_type": "code",
      "source": [
        "sns.histplot(df_nonnormal['D1'], kde=True);"
      ],
      "metadata": {
        "colab": {
          "base_uri": "https://localhost:8080/",
          "height": 449
        },
        "id": "Y_n2Nvh0DHR3",
        "outputId": "45d3749d-2d57-46da-ed01-4b7ba0fc5319"
      },
      "execution_count": 108,
      "outputs": [
        {
          "output_type": "display_data",
          "data": {
            "text/plain": [
              "<Figure size 640x480 with 1 Axes>"
            ],
            "image/png": "[encoded data removed]"
          },
          "metadata": {}
        }
      ]
    },
    {
      "cell_type": "code",
      "source": [
        "sns.histplot(df_nonnormal['D2'], kde=True);"
      ],
      "metadata": {
        "colab": {
          "base_uri": "https://localhost:8080/",
          "height": 449
        },
        "id": "XSe5mDnuDdGh",
        "outputId": "47dfd37e-4ce2-488a-ea8e-54a1387a4da5"
      },
      "execution_count": 109,
      "outputs": [
        {
          "output_type": "display_data",
          "data": {
            "text/plain": [
              "<Figure size 640x480 with 1 Axes>"
            ],
            "image/png": "[encoded data removed]"
          },
          "metadata": {}
        }
      ]
    },
    {
      "cell_type": "markdown",
      "source": [
        "### Shapiro test\n",
        "- H0 - normal distribution\n",
        "- H1 - nonnormal distribution"
      ],
      "metadata": {
        "id": "FQOWIZ30D3wC"
      }
    },
    {
      "cell_type": "code",
      "source": [
        "_, p = stats.shapiro(df_nonnormal['D1'])\n",
        "hypothesis(p)"
      ],
      "metadata": {
        "colab": {
          "base_uri": "https://localhost:8080/"
        },
        "id": "cG0zM3eLDico",
        "outputId": "fc36fc87-bed9-4e79-bd34-e004414e0ca5"
      },
      "execution_count": 115,
      "outputs": [
        {
          "output_type": "stream",
          "name": "stdout",
          "text": [
            "Reject null hypothesis (H0)\n",
            "Accepting alternative hypothesis (H1)\n"
          ]
        }
      ]
    },
    {
      "cell_type": "code",
      "source": [
        "_, p = stats.shapiro(df_nonnormal['D2'])\n",
        "hypothesis(p)"
      ],
      "metadata": {
        "colab": {
          "base_uri": "https://localhost:8080/"
        },
        "id": "Yz_LqHm1Dy1J",
        "outputId": "84711519-b19d-4009-978b-8787223c615b"
      },
      "execution_count": 116,
      "outputs": [
        {
          "output_type": "stream",
          "name": "stdout",
          "text": [
            "Reject null hypothesis (H0)\n",
            "Accepting alternative hypothesis (H1)\n"
          ]
        }
      ]
    },
    {
      "cell_type": "markdown",
      "source": [
        "### Wilcoxon test\n",
        "- H0 - similar data\n",
        "- H1 - nonsimilar data"
      ],
      "metadata": {
        "id": "MjcphLX7EUs3"
      }
    },
    {
      "cell_type": "code",
      "source": [
        "_, p = stats.wilcoxon(x=df_nonnormal['D1'], y=df_nonnormal['D2'])\n",
        "hypothesis(p)"
      ],
      "metadata": {
        "colab": {
          "base_uri": "https://localhost:8080/"
        },
        "id": "-ONodi1aEE7i",
        "outputId": "eff8ae58-1fe6-4237-f860-abda5cf06fdd"
      },
      "execution_count": 118,
      "outputs": [
        {
          "output_type": "stream",
          "name": "stdout",
          "text": [
            "Reject null hypothesis (H0)\n",
            "Accepting alternative hypothesis (H1)\n"
          ]
        }
      ]
    },
    {
      "cell_type": "code",
      "source": [
        "print('D1 is better than D2' if df_nonnormal.D1.mean() > df_nonnormal.D2.mean() else 'D2 is better than D1')"
      ],
      "metadata": {
        "colab": {
          "base_uri": "https://localhost:8080/"
        },
        "id": "XszN0q2_Elal",
        "outputId": "0d7faafd-af6c-450f-c51c-f7fdf7ed76a5"
      },
      "execution_count": 122,
      "outputs": [
        {
          "output_type": "stream",
          "name": "stdout",
          "text": [
            "D2 is better than D1\n"
          ]
        }
      ]
    },
    {
      "cell_type": "code",
      "source": [],
      "metadata": {
        "id": "TaBBbjd0EtyW"
      },
      "execution_count": null,
      "outputs": []
    }
  ],
  "metadata": {
    "kernelspec": {
      "display_name": "model",
      "language": "python",
      "name": "python3"
    },
    "language_info": {
      "codemirror_mode": {
        "name": "ipython",
        "version": 3
      },
      "file_extension": ".py",
      "mimetype": "text/x-python",
      "name": "python",
      "nbconvert_exporter": "python",
      "pygments_lexer": "ipython3",
      "version": "3.9.16"
    },
    "orig_nbformat": 4,
    "colab": {
      "provenance": [],
      "collapsed_sections": [
        "0xE6FoVI9Jyx",
        "Po2--bbe9Jyy",
        "Znm3wSdK_OqI",
        "15b54l2MhB9Z",
        "SjBia30PuQac"
      ],
      "toc_visible": true
    }
  },
  "nbformat": 4,
  "nbformat_minor": 0
}